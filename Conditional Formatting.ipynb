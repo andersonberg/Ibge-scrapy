{
 "cells": [
  {
   "cell_type": "code",
   "execution_count": 13,
   "metadata": {
    "collapsed": true
   },
   "outputs": [],
   "source": [
    "import pandas as pd\n",
    "import numpy as np"
   ]
  },
  {
   "cell_type": "code",
   "execution_count": 112,
   "metadata": {
    "collapsed": false
   },
   "outputs": [
    {
     "data": {
      "text/plain": [
       "pandas.core.frame.DataFrame"
      ]
     },
     "execution_count": 112,
     "metadata": {},
     "output_type": "execute_result"
    }
   ],
   "source": [
    "pe = pd.read_excel(\"Planilhas/Cobertura PE.xls\", sheetname=\"Sheet1\")\n",
    "type(pe)"
   ]
  },
  {
   "cell_type": "code",
   "execution_count": 113,
   "metadata": {
    "collapsed": true
   },
   "outputs": [],
   "source": [
    "microregions = {}\n",
    "microregions['Recife'] = ['Abreu e Lima', 'Camaragibe', 'Jaboatão dos Guararapes',  'Moreno', 'Olinda', 'Paulista', 'Recife', 'São Lourenço da Mata']\n",
    "microregions['Alto Capibaribe'] = ['Casinhas', 'Frei Miguelinho', 'Santa Cruz do Capibaribe', 'Santa Maria do Cambucá', 'Surubim', 'Taquaritinga do Norte', 'Toritama', 'Vertente do Lério', 'Vertentes']\n",
    "microregions['Araripe'] = ['Araripina', 'Bodocó', 'Exu', 'Granito', 'Ipubi', 'Moreilândia', 'Ouricuri', 'Santa Cruz', 'Santa Filomena', 'Trindade']"
   ]
  },
  {
   "cell_type": "code",
   "execution_count": 114,
   "metadata": {
    "collapsed": false
   },
   "outputs": [
    {
     "data": {
      "text/html": [
       "<div>\n",
       "<table border=\"1\" class=\"dataframe\">\n",
       "  <thead>\n",
       "    <tr style=\"text-align: right;\">\n",
       "      <th></th>\n",
       "      <th>Município</th>\n",
       "      <th>Produto Interno Bruto (R$ 1.000 )</th>\n",
       "      <th>PIB per capita (R$)</th>\n",
       "      <th>Quantidade (Pessoas)</th>\n",
       "      <th>Vidas Assistidas ANS</th>\n",
       "      <th>XP</th>\n",
       "      <th>US</th>\n",
       "      <th>MR</th>\n",
       "      <th>CT</th>\n",
       "      <th>MI</th>\n",
       "      <th>Micro Região</th>\n",
       "    </tr>\n",
       "  </thead>\n",
       "  <tbody>\n",
       "    <tr>\n",
       "      <th>0</th>\n",
       "      <td>Abreu e Lima</td>\n",
       "      <td>1025853.453</td>\n",
       "      <td>10770.91</td>\n",
       "      <td>94428</td>\n",
       "      <td>15592</td>\n",
       "      <td>5</td>\n",
       "      <td>16</td>\n",
       "      <td>0</td>\n",
       "      <td>0</td>\n",
       "      <td>0</td>\n",
       "      <td>Recife</td>\n",
       "    </tr>\n",
       "    <tr>\n",
       "      <th>1</th>\n",
       "      <td>Afogados da Ingazeira</td>\n",
       "      <td>257336.022</td>\n",
       "      <td>7266.10</td>\n",
       "      <td>35091</td>\n",
       "      <td>970</td>\n",
       "      <td>7</td>\n",
       "      <td>11</td>\n",
       "      <td>0</td>\n",
       "      <td>1</td>\n",
       "      <td>0</td>\n",
       "      <td></td>\n",
       "    </tr>\n",
       "    <tr>\n",
       "      <th>2</th>\n",
       "      <td>Afrânio</td>\n",
       "      <td>100778.848</td>\n",
       "      <td>5606.61</td>\n",
       "      <td>17588</td>\n",
       "      <td>517</td>\n",
       "      <td>1</td>\n",
       "      <td>2</td>\n",
       "      <td>0</td>\n",
       "      <td>0</td>\n",
       "      <td>0</td>\n",
       "      <td></td>\n",
       "    </tr>\n",
       "    <tr>\n",
       "      <th>3</th>\n",
       "      <td>Agrestina</td>\n",
       "      <td>148341.983</td>\n",
       "      <td>6427.57</td>\n",
       "      <td>22680</td>\n",
       "      <td>736</td>\n",
       "      <td>1</td>\n",
       "      <td>6</td>\n",
       "      <td>0</td>\n",
       "      <td>0</td>\n",
       "      <td>0</td>\n",
       "      <td></td>\n",
       "    </tr>\n",
       "    <tr>\n",
       "      <th>4</th>\n",
       "      <td>Água Preta</td>\n",
       "      <td>176300.846</td>\n",
       "      <td>5218.32</td>\n",
       "      <td>33046</td>\n",
       "      <td>303</td>\n",
       "      <td>2</td>\n",
       "      <td>4</td>\n",
       "      <td>0</td>\n",
       "      <td>0</td>\n",
       "      <td>0</td>\n",
       "      <td></td>\n",
       "    </tr>\n",
       "  </tbody>\n",
       "</table>\n",
       "</div>"
      ],
      "text/plain": [
       "               Município  Produto Interno Bruto (R$ 1.000 )  \\\n",
       "0           Abreu e Lima                        1025853.453   \n",
       "1  Afogados da Ingazeira                         257336.022   \n",
       "2                Afrânio                         100778.848   \n",
       "3              Agrestina                         148341.983   \n",
       "4             Água Preta                         176300.846   \n",
       "\n",
       "   PIB per capita (R$)  Quantidade (Pessoas)  Vidas Assistidas ANS  XP  US  \\\n",
       "0             10770.91                 94428                 15592   5  16   \n",
       "1              7266.10                 35091                   970   7  11   \n",
       "2              5606.61                 17588                   517   1   2   \n",
       "3              6427.57                 22680                   736   1   6   \n",
       "4              5218.32                 33046                   303   2   4   \n",
       "\n",
       "   MR  CT  MI Micro Região  \n",
       "0   0   0   0       Recife  \n",
       "1   0   1   0               \n",
       "2   0   0   0               \n",
       "3   0   0   0               \n",
       "4   0   0   0               "
      ]
     },
     "execution_count": 114,
     "metadata": {},
     "output_type": "execute_result"
    }
   ],
   "source": [
    "mic_region_list = []\n",
    "for cidade in municipio:\n",
    "    try:\n",
    "        mic_region = [mic for mic, city in microregions.items() if cidade in city][0]\n",
    "    except IndexError as e:\n",
    "        mic_region = \"\"\n",
    "    mic_region_list.append(mic_region)\n",
    "mic_region_list = np.array(mic_region_list)\n",
    "pe['Micro Região'] = pd.Series(mic_region_list, index=pe.index)\n",
    "pe.head()"
   ]
  },
  {
   "cell_type": "code",
   "execution_count": 134,
   "metadata": {
    "collapsed": false
   },
   "outputs": [],
   "source": [
    "writer = pd.ExcelWriter('pandas_conditional.xlsx', engine='xlsxwriter')\n",
    "pe.to_excel(writer, sheet_name='Sheet1')\n",
    "workbook  = writer.book\n",
    "worksheet = writer.sheets['Sheet1']"
   ]
  },
  {
   "cell_type": "code",
   "execution_count": 135,
   "metadata": {
    "collapsed": false
   },
   "outputs": [],
   "source": [
    "colors = ['green', 'red', 'blue']\n",
    "\n",
    "for region in microregions.keys():\n",
    "    curr_color = colors.pop()\n",
    "    format2 = workbook.add_format()\n",
    "    format2.set_pattern(1)  # This is optional when using a solid fill.\n",
    "    format2.set_bg_color(curr_color)\n",
    "    for row in range(2,187):\n",
    "        cell = 'B%d' % row\n",
    "        criteria = '=$L$%d=\"%s\"' % (row, region)\n",
    "        worksheet.conditional_format(cell, {'type':'formula','criteria':criteria,'format':format2})\n",
    "writer.save()"
   ]
  },
  {
   "cell_type": "code",
   "execution_count": null,
   "metadata": {
    "collapsed": true
   },
   "outputs": [],
   "source": []
  }
 ],
 "metadata": {
  "kernelspec": {
   "display_name": "Python 3",
   "language": "python",
   "name": "python3"
  },
  "language_info": {
   "codemirror_mode": {
    "name": "ipython",
    "version": 3
   },
   "file_extension": ".py",
   "mimetype": "text/x-python",
   "name": "python",
   "nbconvert_exporter": "python",
   "pygments_lexer": "ipython3",
   "version": "3.4.0"
  }
 },
 "nbformat": 4,
 "nbformat_minor": 0
}
