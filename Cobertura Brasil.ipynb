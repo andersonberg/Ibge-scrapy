{
 "cells": [
  {
   "cell_type": "code",
   "execution_count": null,
   "metadata": {
    "collapsed": true
   },
   "outputs": [],
   "source": [
    "import pandas as pd\n",
    "import numpy as np"
   ]
  },
  {
   "cell_type": "code",
   "execution_count": null,
   "metadata": {
    "collapsed": false
   },
   "outputs": [],
   "source": [
    "ans = pd.read_excel(\"Planilhas/ANS Vidas Assistidas.xls\", sheetname=\"Sudeste\")\n",
    "ans.head()"
   ]
  },
  {
   "cell_type": "code",
   "execution_count": null,
   "metadata": {
    "collapsed": false,
    "scrolled": true
   },
   "outputs": [],
   "source": [
    "equipamentos = pd.read_excel(\"Planilhas/Equipamentos por município Sudeste.xls\")"
   ]
  },
  {
   "cell_type": "code",
   "execution_count": null,
   "metadata": {
    "collapsed": true
   },
   "outputs": [],
   "source": [
    "def get_equipment(equip):\n",
    "    raio_x = equip[equip[\"equipamento\"].map(lambda x: \"raio x\" in x.encode('utf8').lower() and \"dentario\" not in x.encode('utf8').lower() and \"densitometria\" not in x.encode('utf8').lower() )]\n",
    "    mamografo = equip[equip[\"equipamento\"].map(lambda x: \"mamografo\" in x.encode('utf8').lower() )]\n",
    "    ultrassom = equip[equip[\"equipamento\"].map(lambda x: \"ultrassom\" in x.encode('utf8').lower() )]\n",
    "    ressonancia = equip[equip[\"equipamento\"].map(lambda x: \"ressonancia\" in x.encode('utf8').lower() )]\n",
    "    tomografo = equip[equip[\"equipamento\"].map(lambda x: \"tomógrafo\" in x.encode('utf8').lower() )]\n",
    "    pet_ct = equip[equip[\"equipamento\"].map(lambda x: \"pet/ct\" in x.encode('utf8').lower() )]\n",
    "    gama = equip[equip[\"equipamento\"].map(lambda x: \"gama\" in x.encode('utf8').lower() )]\n",
    "    \n",
    "    total_sum = {\"XP\":0, \"US\": 0, \"MR\":0, \"CT\":0, \"MI\":0}\n",
    "    \n",
    "    if not raio_x.empty:\n",
    "        total_sum.update({\"XP\": raio_x[\"existentes\"].sum() + mamografo[\"existentes\"].sum()})\n",
    "    if not ultrassom.empty:\n",
    "        total_sum.update({\"US\": ultrassom[\"existentes\"].sum()})\n",
    "    if not ressonancia.empty:\n",
    "        total_sum.update({\"MR\": ressonancia[\"existentes\"].sum()})\n",
    "    if not tomografo.empty:\n",
    "        total_sum.update({\"CT\": tomografo[\"existentes\"].sum()})\n",
    "    if not pet_ct.empty:\n",
    "        total_sum.update({\"MI\": pet_ct[\"existentes\"].sum() + gama[\"existentes\"].sum()})\n",
    "    \n",
    "    return total_sum"
   ]
  },
  {
   "cell_type": "code",
   "execution_count": null,
   "metadata": {
    "collapsed": false,
    "scrolled": true
   },
   "outputs": [],
   "source": [
    "populacao = pd.read_excel(\"Planilhas/Sudeste/total_populacao_sao_paulo.xls\")\n",
    "print(populacao.shape)\n",
    "populacao.head()"
   ]
  },
  {
   "cell_type": "code",
   "execution_count": null,
   "metadata": {
    "collapsed": false
   },
   "outputs": [],
   "source": [
    "pib = pd.read_excel(\"Planilhas/PIBMunicipal2008-2012.xlsx\", header=5, parse_cols=\"A,F,G\")\n",
    "# Ajustar o slide para o Estado sendo processado\n",
    "pib = pib[3290:3935]\n",
    "pib"
   ]
  },
  {
   "cell_type": "code",
   "execution_count": null,
   "metadata": {
    "collapsed": false
   },
   "outputs": [],
   "source": [
    "columns = [u\"Município\", u\"Produto Interno Bruto (R$ 1.000 )\", u\"PIB per capita (R$)\", u\"Quantidade (Pessoas)\", \"Vidas Assistidas ANS\", \"XP\", \"US\", \"MR\", \"CT\", \"MI\"]\n",
    "result_final = pd.DataFrame(columns=columns)\n",
    "\n",
    "city_list=[]\n",
    "for row in populacao.iterrows():\n",
    "    try:\n",
    "        city_code = int(row[1][u\"Código do município\"][:-1])\n",
    "        city_pop = int(row[1][u\"Total da população 2010\"])\n",
    "        city_name = row[1][u\"Nome do município\"]\n",
    "        \n",
    "        # Obtém a quantidade de vidas assistidas\n",
    "        result2 = ans[ans[u\"Município\"].map(lambda x: str(city_code) in x)]\n",
    "        \n",
    "        if result2.empty:\n",
    "            city_assist = 0\n",
    "        else:        \n",
    "            city_assist = int(result2[u\"Assistência Médica\"])\n",
    "        \n",
    "        # Obtém PIB e PIB per capita\n",
    "        result3 = pib[pib[u\"Município\"]==city_name]\n",
    "        \n",
    "        if result3.empty:\n",
    "            city_pib = 0\n",
    "            city_pib_per_capita = 0 \n",
    "        else:\n",
    "            city_pib = float(result3[2012])        \n",
    "            city_pib_per_capita = float(result3[u\"Per capita (R$) 2012\"])\n",
    "            \n",
    "        info_dict = {u\"Município\":city_name, u\"Produto Interno Bruto (R$ 1.000 )\":city_pib, u\"PIB per capita (R$)\":city_pib_per_capita, u\"Quantidade (Pessoas)\":city_pop, \"Vidas Assistidas ANS\":city_assist}\n",
    "            \n",
    "        # Obtém a quantidade de máquinas por categoria\n",
    "        equip = equipamentos[equipamentos[\"cidade\"]==city_code]\n",
    "        total_sum = get_equipment(equip)\n",
    "        \n",
    "        info_dict.update(total_sum)\n",
    "        city_list.append(info_dict)\n",
    "\n",
    "    except ValueError:\n",
    "        print 'ValueError'\n",
    "        continue\n",
    "    except TypeError:\n",
    "        print 'TypeError'\n",
    "        print result3.head()\n",
    "        print city_name\n",
    "        continue\n",
    "\n",
    "result_final = result_final.append(city_list, ignore_index=True)\n",
    "\n",
    "# Trocar o nome da planilha para o Estado sendo processado\n",
    "result_final.to_excel(\"Cobertura SP.xls\")"
   ]
  },
  {
   "cell_type": "code",
   "execution_count": null,
   "metadata": {
    "collapsed": false,
    "scrolled": true
   },
   "outputs": [],
   "source": [
    "curr_city = int(populacao[u\"Código do município\"][10][:-1])\n",
    "curr_city_population = populacao[u\"Total da população 2010\"][10]\n",
    "curr_city_name = populacao[u\"Nome do município\"][10]\n",
    "equip = equipamentos[equipamentos[\"cidade\"]==curr_city]\n",
    "\n",
    "raio_x = equip[equip[\"equipamento\"].map(lambda x: \"raio x\" in x.encode('utf8').lower() )]\n",
    "ultrassom = equip[equip[\"equipamento\"].map(lambda x: \"ultrassom\" in x.encode('utf8').lower() )]\n",
    "ressonancia = equip[equip[\"equipamento\"].map(lambda x: \"ressonancia\" in x.encode('utf8').lower() )]\n",
    "tomografo = equip[equip[\"equipamento\"].map(lambda x: \"tomógrafo\" in x.encode('utf8').lower() )]\n",
    "pet_ct = equip[equip[\"equipamento\"].map(lambda x: \"pet/ct\" in x.encode('utf8').lower() )]\n",
    "\n",
    "total_sum = {}\n",
    "total_sum.update({\"XP\": raio_x[\"existentes\"].sum()})\n",
    "total_sum.update({\"US\": ultrassom[\"existentes\"].sum()})\n",
    "total_sum.update({\"MR\": ressonancia[\"existentes\"].sum()})\n",
    "total_sum.update({\"CT\": tomografo[\"existentes\"].sum()})\n",
    "total_sum.update({\"MI\": pet_ct[\"existentes\"].sum()})\n",
    "\n",
    "print total_sum\n",
    "\n",
    "sum_xp = raio_x[[\"existentes\"]].sum()\n",
    "sum_us = ultrassom[[\"existentes\"]].sum().append(sum_xp)\n",
    "sum_mr = ressonancia[[\"existentes\"]].sum().append(sum_us)\n",
    "sum_ct = tomografo[[\"existentes\"]].sum().append(sum_mr)\n",
    "sum_mi = pet_ct[[\"existentes\"]].sum().append(sum_ct)\n",
    "\n",
    "# df_sum = pd.DataFrame(data=sum_mi, columns=[\"XP\", \"US\", \"MR\", \"CT\", \"MI\"])\n",
    "# df_sum = df_sum.append(sum_us, ignore_index=True)\n",
    "# pd.merge(df_sum, sum_ultrassom)\n",
    "# df_sum = df_sum.append(sum_ultrassom, ignore_index=True)\n",
    "# df_sum\n",
    "# sum_mi"
   ]
  },
  {
   "cell_type": "code",
   "execution_count": null,
   "metadata": {
    "collapsed": false,
    "scrolled": true
   },
   "outputs": [],
   "source": [
    "result3 = pib[pib[u\"Município\"]==curr_city_name]\n",
    "result3"
   ]
  },
  {
   "cell_type": "code",
   "execution_count": null,
   "metadata": {
    "collapsed": false
   },
   "outputs": [],
   "source": [
    "city_pib = float(result3[2012])\n",
    "city_pib_per_capita = float(result3[u\"Per capita (R$) 2012\"])\n",
    "city_assist = int(result2[u\"Assistência_Médica\"])\n",
    "city_pib, city_assist"
   ]
  },
  {
   "cell_type": "code",
   "execution_count": null,
   "metadata": {
    "collapsed": false
   },
   "outputs": [],
   "source": [
    "dict_result = {u\"Município\":curr_city_name, u\"Produto Interno Bruto (R$ 1.000 )\":city_pib, u\"PIB per capita (R$)\": city_pib_per_capita, u\"Quantidade (Pessoas)\":curr_city_population, \"Vidas Assistidas ANS\":city_assist}\n",
    "columns = dict_result.keys()\n",
    "result_final = pd.DataFrame(data=dict_result, index=[\"Município\"])\n",
    "pd.pivot_table(result_final, index=[u\"Município\"])"
   ]
  },
  {
   "cell_type": "code",
   "execution_count": null,
   "metadata": {
    "collapsed": true
   },
   "outputs": [],
   "source": []
  }
 ],
 "metadata": {
  "kernelspec": {
   "display_name": "Python 3",
   "language": "python",
   "name": "python3"
  },
  "language_info": {
   "codemirror_mode": {
    "name": "ipython",
    "version": 3
   },
   "file_extension": ".py",
   "mimetype": "text/x-python",
   "name": "python",
   "nbconvert_exporter": "python",
   "pygments_lexer": "ipython3",
   "version": "3.4.0"
  }
 },
 "nbformat": 4,
 "nbformat_minor": 0
}
